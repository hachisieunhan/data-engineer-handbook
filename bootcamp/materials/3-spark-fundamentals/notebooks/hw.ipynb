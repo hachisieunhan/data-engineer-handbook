{
 "cells": [
  {
   "cell_type": "code",
   "execution_count": 1,
   "id": "592dfacc-7f02-4e40-8387-86a71289da0a",
   "metadata": {},
   "outputs": [
    {
     "name": "stderr",
     "output_type": "stream",
     "text": [
      "24/12/18 21:02:26 WARN SparkSession: Using an existing Spark session; only runtime SQL configurations will take effect.\n"
     ]
    }
   ],
   "source": [
    "from pyspark.sql import SparkSession\n",
    "from pyspark.sql.functions import expr, col, broadcast, mean, count_distinct, sum\n",
    "spark = SparkSession.builder.appName(\"hw\").getOrCreate()\n",
    "\n",
    "# Disabled automatic broadcast join\n",
    "spark.conf.set(\"spark.sql.autoBroadcastJoinThreshold\", \"-1\")"
   ]
  },
  {
   "cell_type": "code",
   "execution_count": 2,
   "id": "4edb4cf8-3b4b-4c20-bd8c-0b57c9e7493d",
   "metadata": {},
   "outputs": [
    {
     "name": "stderr",
     "output_type": "stream",
     "text": [
      "                                                                                \r"
     ]
    }
   ],
   "source": [
    "# Load data from csv files\n",
    "matches_df = spark.read.option(\"header\", \"true\") \\\n",
    "                .option(\"inferSchema\", \"true\") \\\n",
    "                .csv(\"../data/matches.csv\")\n",
    "maps_df = spark.read.option(\"header\", \"true\") \\\n",
    "                .option(\"inferSchema\", \"true\") \\\n",
    "                .csv(\"../data/maps.csv\")\n",
    "medals_df = spark.read.option(\"header\", \"true\") \\\n",
    "                .option(\"inferSchema\", \"true\") \\\n",
    "                .csv(\"../data/medals.csv\")\n",
    "match_details_df = spark.read.option(\"header\", \"true\") \\\n",
    "                .option(\"inferSchema\", \"true\") \\\n",
    "                .csv(\"../data/match_details.csv\")\n",
    "medals_matches_players_df = spark.read.option(\"header\", \"true\") \\\n",
    "                .option(\"inferSchema\", \"true\") \\\n",
    "                .csv(\"../data/medals_matches_players.csv\")"
   ]
  },
  {
   "cell_type": "code",
   "execution_count": 3,
   "id": "0e1c48a5-049d-41b0-9073-8a1ec9e0d599",
   "metadata": {},
   "outputs": [
    {
     "name": "stdout",
     "output_type": "stream",
     "text": [
      "== Physical Plan ==\n",
      "AdaptiveSparkPlan isFinalPlan=false\n",
      "+- Project [mapid#18, match_id#17, is_team_game#19, playlist_id#20, game_variant_id#21, is_match_over#22, completion_date#23, match_duration#24, game_mode#25, map_variant_id#26, map_name#215, map_description#220]\n",
      "   +- BroadcastHashJoin [mapid#18], [mapid#54], LeftOuter, BuildRight, false\n",
      "      :- FileScan csv [match_id#17,mapid#18,is_team_game#19,playlist_id#20,game_variant_id#21,is_match_over#22,completion_date#23,match_duration#24,game_mode#25,map_variant_id#26] Batched: false, DataFilters: [], Format: CSV, Location: InMemoryFileIndex(1 paths)[file:/home/iceberg/notebooks/data/matches.csv], PartitionFilters: [], PushedFilters: [], ReadSchema: struct<match_id:string,mapid:string,is_team_game:boolean,playlist_id:string,game_variant_id:strin...\n",
      "      +- BroadcastExchange HashedRelationBroadcastMode(List(input[0, string, true]),false), [plan_id=115]\n",
      "         +- Project [mapid#54, name#55 AS map_name#215, description#56 AS map_description#220]\n",
      "            +- Filter isnotnull(mapid#54)\n",
      "               +- FileScan csv [mapid#54,name#55,description#56] Batched: false, DataFilters: [isnotnull(mapid#54)], Format: CSV, Location: InMemoryFileIndex(1 paths)[file:/home/iceberg/notebooks/data/maps.csv], PartitionFilters: [], PushedFilters: [IsNotNull(mapid)], ReadSchema: struct<mapid:string,name:string,description:string>\n",
      "\n",
      "\n",
      "== Physical Plan ==\n",
      "AdaptiveSparkPlan isFinalPlan=false\n",
      "+- Project [mapid#18, match_id#17, is_team_game#19, playlist_id#20, game_variant_id#21, is_match_over#22, completion_date#23, match_duration#24, game_mode#25, map_variant_id#26, map_name#215, map_description#220]\n",
      "   +- BroadcastHashJoin [mapid#18], [mapid#54], LeftOuter, BuildRight, false\n",
      "      :- FileScan csv [match_id#17,mapid#18,is_team_game#19,playlist_id#20,game_variant_id#21,is_match_over#22,completion_date#23,match_duration#24,game_mode#25,map_variant_id#26] Batched: false, DataFilters: [], Format: CSV, Location: InMemoryFileIndex(1 paths)[file:/home/iceberg/notebooks/data/matches.csv], PartitionFilters: [], PushedFilters: [], ReadSchema: struct<match_id:string,mapid:string,is_team_game:boolean,playlist_id:string,game_variant_id:strin...\n",
      "      +- BroadcastExchange HashedRelationBroadcastMode(List(input[0, string, true]),false), [plan_id=115]\n",
      "         +- Project [mapid#54, name#55 AS map_name#215, description#56 AS map_description#220]\n",
      "            +- Filter isnotnull(mapid#54)\n",
      "               +- FileScan csv [mapid#54,name#55,description#56] Batched: false, DataFilters: [isnotnull(mapid#54)], Format: CSV, Location: InMemoryFileIndex(1 paths)[file:/home/iceberg/notebooks/data/maps.csv], PartitionFilters: [], PushedFilters: [IsNotNull(mapid)], ReadSchema: struct<mapid:string,name:string,description:string>\n",
      "\n",
      "\n"
     ]
    }
   ],
   "source": [
    "# Broadcast join\n",
    "# btw matches and maps on mapid\n",
    "matches_maps_df = matches_df.join(broadcast(maps_df.withColumnRenamed(\"name\", \"map_name\").withColumnRenamed(\"description\", \"map_description\")), \"mapid\", how=\"left\")\n",
    "matches_maps_df.explain()\n",
    "\n",
    "# btw medals_matches_players and medals on medal_id\n",
    "medals_matches_players_medals_df = medals_matches_players_df.join(broadcast(medals_df.withColumnRenamed(\"name\", \"medal_name\").withColumnRenamed(\"description\", \"medal_description\")), \"medal_id\", how=\"left\")\n",
    "matches_maps_df.explain()\n"
   ]
  },
  {
   "cell_type": "code",
   "execution_count": 4,
   "id": "53d73112-7279-4573-a4e6-f442ee25746d",
   "metadata": {},
   "outputs": [
    {
     "name": "stdout",
     "output_type": "stream",
     "text": [
      "== Physical Plan ==\n",
      "AdaptiveSparkPlan isFinalPlan=false\n",
      "+- Project [match_id#118, player_gamertag#119, previous_spartan_rank#120, spartan_rank#121, previous_total_xp#122, total_xp#123, previous_csr_tier#124, previous_csr_designation#125, previous_csr#126, previous_csr_percent_to_next_tier#127, previous_csr_rank#128, current_csr_tier#129, current_csr_designation#130, current_csr#131, current_csr_percent_to_next_tier#132, current_csr_rank#133, player_rank_on_team#134, player_finished#135, player_average_life#136, player_total_kills#137, player_total_headshots#138, player_total_weapon_damage#139, player_total_shots_landed#140, player_total_melee_kills#141, ... 25 more fields]\n",
      "   +- SortMergeJoin [match_id#118, player_gamertag#119], [match_id#207, player_gamertag#208], LeftOuter\n",
      "      :- Sort [match_id#118 ASC NULLS FIRST, player_gamertag#119 ASC NULLS FIRST], false, 0\n",
      "      :  +- Exchange hashpartitioning(match_id#118, player_gamertag#119, 200), ENSURE_REQUIREMENTS, [plan_id=190]\n",
      "      :     +- Project [match_id#118, player_gamertag#119, previous_spartan_rank#120, spartan_rank#121, previous_total_xp#122, total_xp#123, previous_csr_tier#124, previous_csr_designation#125, previous_csr#126, previous_csr_percent_to_next_tier#127, previous_csr_rank#128, current_csr_tier#129, current_csr_designation#130, current_csr#131, current_csr_percent_to_next_tier#132, current_csr_rank#133, player_rank_on_team#134, player_finished#135, player_average_life#136, player_total_kills#137, player_total_headshots#138, player_total_weapon_damage#139, player_total_shots_landed#140, player_total_melee_kills#141, ... 23 more fields]\n",
      "      :        +- SortMergeJoin [match_id#118], [match_id#17], LeftOuter\n",
      "      :           :- Sort [match_id#118 ASC NULLS FIRST], false, 0\n",
      "      :           :  +- Exchange hashpartitioning(match_id#118, 200), ENSURE_REQUIREMENTS, [plan_id=181]\n",
      "      :           :     +- FileScan csv [match_id#118,player_gamertag#119,previous_spartan_rank#120,spartan_rank#121,previous_total_xp#122,total_xp#123,previous_csr_tier#124,previous_csr_designation#125,previous_csr#126,previous_csr_percent_to_next_tier#127,previous_csr_rank#128,current_csr_tier#129,current_csr_designation#130,current_csr#131,current_csr_percent_to_next_tier#132,current_csr_rank#133,player_rank_on_team#134,player_finished#135,player_average_life#136,player_total_kills#137,player_total_headshots#138,player_total_weapon_damage#139,player_total_shots_landed#140,player_total_melee_kills#141,... 12 more fields] Batched: false, DataFilters: [], Format: CSV, Location: InMemoryFileIndex(1 paths)[file:/home/iceberg/notebooks/data/match_details.csv], PartitionFilters: [], PushedFilters: [], ReadSchema: struct<match_id:string,player_gamertag:string,previous_spartan_rank:int,spartan_rank:int,previous...\n",
      "      :           +- Sort [match_id#17 ASC NULLS FIRST], false, 0\n",
      "      :              +- Exchange hashpartitioning(match_id#17, 200), ENSURE_REQUIREMENTS, [plan_id=182]\n",
      "      :                 +- Project [mapid#18, match_id#17, is_team_game#19, playlist_id#20, game_variant_id#21, is_match_over#22, completion_date#23, match_duration#24, game_mode#25, map_variant_id#26, map_name#215, map_description#220]\n",
      "      :                    +- BroadcastHashJoin [mapid#18], [mapid#54], LeftOuter, BuildRight, false\n",
      "      :                       :- Filter isnotnull(match_id#17)\n",
      "      :                       :  +- FileScan csv [match_id#17,mapid#18,is_team_game#19,playlist_id#20,game_variant_id#21,is_match_over#22,completion_date#23,match_duration#24,game_mode#25,map_variant_id#26] Batched: false, DataFilters: [isnotnull(match_id#17)], Format: CSV, Location: InMemoryFileIndex(1 paths)[file:/home/iceberg/notebooks/data/matches.csv], PartitionFilters: [], PushedFilters: [IsNotNull(match_id)], ReadSchema: struct<match_id:string,mapid:string,is_team_game:boolean,playlist_id:string,game_variant_id:strin...\n",
      "      :                       +- BroadcastExchange HashedRelationBroadcastMode(List(input[0, string, true]),false), [plan_id=176]\n",
      "      :                          +- Project [mapid#54, name#55 AS map_name#215, description#56 AS map_description#220]\n",
      "      :                             +- Filter isnotnull(mapid#54)\n",
      "      :                                +- FileScan csv [mapid#54,name#55,description#56] Batched: false, DataFilters: [isnotnull(mapid#54)], Format: CSV, Location: InMemoryFileIndex(1 paths)[file:/home/iceberg/notebooks/data/maps.csv], PartitionFilters: [], PushedFilters: [IsNotNull(mapid)], ReadSchema: struct<mapid:string,name:string,description:string>\n",
      "      +- Sort [match_id#207 ASC NULLS FIRST, player_gamertag#208 ASC NULLS FIRST], false, 0\n",
      "         +- Exchange hashpartitioning(match_id#207, player_gamertag#208, 200), ENSURE_REQUIREMENTS, [plan_id=189]\n",
      "            +- Filter (isnotnull(match_id#207) AND isnotnull(player_gamertag#208))\n",
      "               +- FileScan csv [match_id#207,player_gamertag#208,medal_id#209L,count#210] Batched: false, DataFilters: [isnotnull(match_id#207), isnotnull(player_gamertag#208)], Format: CSV, Location: InMemoryFileIndex(1 paths)[file:/home/iceberg/notebooks/data/medals_matches_players.csv], PartitionFilters: [], PushedFilters: [IsNotNull(match_id), IsNotNull(player_gamertag)], ReadSchema: struct<match_id:string,player_gamertag:string,medal_id:bigint,count:int>\n",
      "\n",
      "\n"
     ]
    },
    {
     "name": "stderr",
     "output_type": "stream",
     "text": [
      "24/12/18 21:02:38 WARN SparkStringUtils: Truncated the string representation of a plan since it was too large. This behavior can be adjusted by setting 'spark.sql.debug.maxToStringFields'.\n"
     ]
    }
   ],
   "source": [
    "# Bucket join\n",
    "# Before bucketing, the plan uses SortMergeJoin with FileScan\n",
    "match_details_df.join(matches_maps_df, \"match_id\", how=\"left\").join(medals_matches_players_df, [\"match_id\", \"player_gamertag\"], how=\"left\").explain()"
   ]
  },
  {
   "cell_type": "code",
   "execution_count": 5,
   "id": "5a7b5657-835d-4b29-9a52-b3c0626cbd05",
   "metadata": {},
   "outputs": [
    {
     "name": "stderr",
     "output_type": "stream",
     "text": [
      "                                                                                \r"
     ]
    }
   ],
   "source": [
    "# Bucket tables\n",
    "matches_maps_df.write \\\n",
    "    .mode(\"overwrite\") \\\n",
    "    .format(\"parquet\") \\\n",
    "    .bucketBy(16, 'match_id') \\\n",
    "    .saveAsTable('bootcamp.matches_maps_bucketed')\n",
    "match_details_df.write \\\n",
    "    .mode(\"overwrite\") \\\n",
    "    .format(\"parquet\") \\\n",
    "    .bucketBy(16, 'match_id') \\\n",
    "    .saveAsTable('bootcamp.match_details_bucketed')\n",
    "medals_matches_players_medals_df.write \\\n",
    "    .mode(\"overwrite\") \\\n",
    "    .format(\"parquet\") \\\n",
    "    .bucketBy(16, 'match_id') \\\n",
    "    .saveAsTable('bootcamp.medals_matches_players_medals_bucketed')"
   ]
  },
  {
   "cell_type": "code",
   "execution_count": 6,
   "id": "1b69fc5d-6627-4c11-a38f-2b25e15e88c7",
   "metadata": {},
   "outputs": [],
   "source": [
    "# Read the data again but from bucketed tables\n",
    "matches_maps_bucketed_df = spark.table('bootcamp.matches_maps_bucketed')\n",
    "match_details_bucketed_df = spark.table('bootcamp.match_details_bucketed')\n",
    "medals_matches_players_medals_bucketed_df = spark.table('bootcamp.medals_matches_players_medals_bucketed')"
   ]
  },
  {
   "cell_type": "code",
   "execution_count": 7,
   "id": "33995807-4861-432a-b5c4-ad27df34e0a6",
   "metadata": {},
   "outputs": [
    {
     "name": "stdout",
     "output_type": "stream",
     "text": [
      "== Physical Plan ==\n",
      "AdaptiveSparkPlan isFinalPlan=false\n",
      "+- Project [match_id#658, player_gamertag#659, previous_spartan_rank#660, spartan_rank#661, previous_total_xp#662, total_xp#663, previous_csr_tier#664, previous_csr_designation#665, previous_csr#666, previous_csr_percent_to_next_tier#667, previous_csr_rank#668, current_csr_tier#669, current_csr_designation#670, current_csr#671, current_csr_percent_to_next_tier#672, current_csr_rank#673, player_rank_on_team#674, player_finished#675, player_average_life#676, player_total_kills#677, player_total_headshots#678, player_total_weapon_damage#679, player_total_shots_landed#680, player_total_melee_kills#681, ... 36 more fields]\n",
      "   +- SortMergeJoin [match_id#658, player_gamertag#659], [match_id#731, player_gamertag#732], LeftOuter\n",
      "      :- Sort [match_id#658 ASC NULLS FIRST, player_gamertag#659 ASC NULLS FIRST], false, 0\n",
      "      :  +- Exchange hashpartitioning(match_id#658, player_gamertag#659, 200), ENSURE_REQUIREMENTS, [plan_id=465]\n",
      "      :     +- Project [match_id#658, player_gamertag#659, previous_spartan_rank#660, spartan_rank#661, previous_total_xp#662, total_xp#663, previous_csr_tier#664, previous_csr_designation#665, previous_csr#666, previous_csr_percent_to_next_tier#667, previous_csr_rank#668, current_csr_tier#669, current_csr_designation#670, current_csr#671, current_csr_percent_to_next_tier#672, current_csr_rank#673, player_rank_on_team#674, player_finished#675, player_average_life#676, player_total_kills#677, player_total_headshots#678, player_total_weapon_damage#679, player_total_shots_landed#680, player_total_melee_kills#681, ... 23 more fields]\n",
      "      :        +- SortMergeJoin [match_id#658], [match_id#635], LeftOuter\n",
      "      :           :- Sort [match_id#658 ASC NULLS FIRST], false, 0\n",
      "      :           :  +- Exchange hashpartitioning(match_id#658, 200), ENSURE_REQUIREMENTS, [plan_id=456]\n",
      "      :           :     +- BatchScan demo.bootcamp.match_details_bucketed[match_id#658, player_gamertag#659, previous_spartan_rank#660, spartan_rank#661, previous_total_xp#662, total_xp#663, previous_csr_tier#664, previous_csr_designation#665, previous_csr#666, previous_csr_percent_to_next_tier#667, previous_csr_rank#668, current_csr_tier#669, current_csr_designation#670, current_csr#671, current_csr_percent_to_next_tier#672, current_csr_rank#673, player_rank_on_team#674, player_finished#675, player_average_life#676, player_total_kills#677, player_total_headshots#678, player_total_weapon_damage#679, player_total_shots_landed#680, player_total_melee_kills#681, ... 12 more fields] demo.bootcamp.match_details_bucketed (branch=null) [filters=, groupedBy=] RuntimeFilters: []\n",
      "      :           +- Sort [match_id#635 ASC NULLS FIRST], false, 0\n",
      "      :              +- Exchange hashpartitioning(match_id#635, 200), ENSURE_REQUIREMENTS, [plan_id=457]\n",
      "      :                 +- BatchScan demo.bootcamp.matches_maps_bucketed[mapid#634, match_id#635, is_team_game#636, playlist_id#637, game_variant_id#638, is_match_over#639, completion_date#640, match_duration#641, game_mode#642, map_variant_id#643, map_name#644, map_description#645] demo.bootcamp.matches_maps_bucketed (branch=null) [filters=match_id IS NOT NULL, groupedBy=] RuntimeFilters: []\n",
      "      +- Sort [match_id#731 ASC NULLS FIRST, player_gamertag#732 ASC NULLS FIRST], false, 0\n",
      "         +- Exchange hashpartitioning(match_id#731, player_gamertag#732, 200), ENSURE_REQUIREMENTS, [plan_id=464]\n",
      "            +- Filter isnotnull(player_gamertag#732)\n",
      "               +- BatchScan demo.bootcamp.medals_matches_players_medals_bucketed[medal_id#730L, match_id#731, player_gamertag#732, count#733, sprite_uri#734, sprite_left#735, sprite_top#736, sprite_sheet_width#737, sprite_sheet_height#738, sprite_width#739, sprite_height#740, classification#741, medal_description#742, medal_name#743, difficulty#744] demo.bootcamp.medals_matches_players_medals_bucketed (branch=null) [filters=match_id IS NOT NULL, player_gamertag IS NOT NULL, groupedBy=] RuntimeFilters: []\n",
      "\n",
      "\n"
     ]
    },
    {
     "data": {
      "text/plain": [
       "DataFrame[match_id: string, player_gamertag: string, previous_spartan_rank: int, spartan_rank: int, previous_total_xp: int, total_xp: int, previous_csr_tier: int, previous_csr_designation: int, previous_csr: int, previous_csr_percent_to_next_tier: int, previous_csr_rank: int, current_csr_tier: int, current_csr_designation: int, current_csr: int, current_csr_percent_to_next_tier: int, current_csr_rank: int, player_rank_on_team: int, player_finished: boolean, player_average_life: string, player_total_kills: int, player_total_headshots: int, player_total_weapon_damage: double, player_total_shots_landed: int, player_total_melee_kills: int, player_total_melee_damage: double, player_total_assassinations: int, player_total_ground_pound_kills: int, player_total_shoulder_bash_kills: int, player_total_grenade_damage: double, player_total_power_weapon_damage: double, player_total_power_weapon_grabs: int, player_total_deaths: int, player_total_assists: int, player_total_grenade_kills: int, did_win: int, team_id: int, mapid: string, is_team_game: boolean, playlist_id: string, game_variant_id: string, is_match_over: boolean, completion_date: timestamp, match_duration: string, game_mode: string, map_variant_id: string, map_name: string, map_description: string, medal_id: bigint, count: int, sprite_uri: string, sprite_left: int, sprite_top: int, sprite_sheet_width: int, sprite_sheet_height: int, sprite_width: int, sprite_height: int, classification: string, medal_description: string, medal_name: string, difficulty: int]"
      ]
     },
     "execution_count": 7,
     "metadata": {},
     "output_type": "execute_result"
    }
   ],
   "source": [
    "# Join three tables on match_id, the plan now has SortMergeJoin, but with BatchScan\n",
    "matches_obt_df = match_details_bucketed_df.join(matches_maps_bucketed_df, \"match_id\", how=\"left\") \\\n",
    "    .join(medals_matches_players_medals_bucketed_df, [\"match_id\", \"player_gamertag\"], how=\"left\")\n",
    "matches_obt_df.explain()\n",
    "matches_obt_df.cache()"
   ]
  },
  {
   "cell_type": "code",
   "execution_count": 8,
   "id": "8aa15154-0a90-4291-ab5e-b1c6400accb1",
   "metadata": {},
   "outputs": [
    {
     "name": "stderr",
     "output_type": "stream",
     "text": [
      "[Stage 36:===================================================>  (191 + 9) / 200]\r"
     ]
    },
    {
     "name": "stdout",
     "output_type": "stream",
     "text": [
      "+---------------+------------------+\n",
      "|player_gamertag|avg_kills_per_game|\n",
      "+---------------+------------------+\n",
      "|   gimpinator14|             109.0|\n",
      "+---------------+------------------+\n",
      "only showing top 1 row\n",
      "\n"
     ]
    },
    {
     "name": "stderr",
     "output_type": "stream",
     "text": [
      "                                                                                \r"
     ]
    }
   ],
   "source": [
    "# Which player averages the most kills per game?\n",
    "result_1_df = matches_obt_df.groupby(\"player_gamertag\").agg(mean(\"player_total_kills\").alias(\"avg_kills_per_game\")).sort(\"avg_kills_per_game\", ascending=False)\n",
    "result_1_df.show(1)"
   ]
  },
  {
   "cell_type": "code",
   "execution_count": 9,
   "id": "711e843d-539b-4827-9dae-8a2f18bc6820",
   "metadata": {},
   "outputs": [
    {
     "name": "stderr",
     "output_type": "stream",
     "text": [
      "[Stage 47:=================================================>   (188 + 12) / 200]\r"
     ]
    },
    {
     "name": "stdout",
     "output_type": "stream",
     "text": [
      "+--------------------+------------------+\n",
      "|         playlist_id|num_unique_matches|\n",
      "+--------------------+------------------+\n",
      "|f72e0ef0-7c4a-430...|              7657|\n",
      "+--------------------+------------------+\n",
      "only showing top 1 row\n",
      "\n"
     ]
    },
    {
     "name": "stderr",
     "output_type": "stream",
     "text": [
      "                                                                                \r"
     ]
    }
   ],
   "source": [
    "# Which playlist gets played the most?\n",
    "result_2_df = matches_obt_df.groupby(\"playlist_id\").agg(count_distinct(\"match_id\").alias(\"num_unique_matches\")).sort(\"num_unique_matches\", ascending=False)\n",
    "result_2_df.show(1)"
   ]
  },
  {
   "cell_type": "code",
   "execution_count": 10,
   "id": "c6afb8c2-7a29-4c26-b128-36b12e44a834",
   "metadata": {},
   "outputs": [
    {
     "name": "stderr",
     "output_type": "stream",
     "text": [
      "[Stage 65:=================================================>   (188 + 12) / 200]\r"
     ]
    },
    {
     "name": "stdout",
     "output_type": "stream",
     "text": [
      "+--------------+------------------+\n",
      "|      map_name|num_unique_matches|\n",
      "+--------------+------------------+\n",
      "|Breakout Arena|              7049|\n",
      "+--------------+------------------+\n",
      "only showing top 1 row\n",
      "\n"
     ]
    },
    {
     "name": "stderr",
     "output_type": "stream",
     "text": [
      "                                                                                \r"
     ]
    }
   ],
   "source": [
    "# Which map gets played the most?\n",
    "result_3_df = matches_obt_df.groupby(\"map_name\").agg(count_distinct(\"match_id\").alias(\"num_unique_matches\")).sort(\"num_unique_matches\", ascending=False)\n",
    "result_3_df.show(1)"
   ]
  },
  {
   "cell_type": "code",
   "execution_count": 11,
   "id": "c2ef4a1b-9670-4e61-bbf0-5819a6d76340",
   "metadata": {},
   "outputs": [
    {
     "name": "stderr",
     "output_type": "stream",
     "text": [
      "[Stage 83:====================================================> (194 + 6) / 200]\r"
     ]
    },
    {
     "name": "stdout",
     "output_type": "stream",
     "text": [
      "+--------------+-----------+\n",
      "|      map_name|medal_count|\n",
      "+--------------+-----------+\n",
      "|Breakout Arena|       6738|\n",
      "+--------------+-----------+\n",
      "only showing top 1 row\n",
      "\n"
     ]
    },
    {
     "name": "stderr",
     "output_type": "stream",
     "text": [
      "                                                                                \r"
     ]
    }
   ],
   "source": [
    "# Which map do players get the most Killing Spree medals on?\n",
    "result_4_df = matches_obt_df.filter(matches_obt_df.medal_name == \"Killing Spree\").groupby(\"map_name\").agg(sum(\"count\").alias(\"medal_count\")).sort(\"medal_count\", ascending=False)\n",
    "result_4_df.show(1)"
   ]
  },
  {
   "cell_type": "code",
   "execution_count": 13,
   "id": "f777c0a1-bc20-41d7-8a6c-21ccfafe4f2b",
   "metadata": {},
   "outputs": [],
   "source": [
    "# With the aggregated data set, try different .sortWithinPartitions to see which has the smallest data size\n",
    "start_df = matches_obt_df.repartition(4, col(\"completion_date\"))\n",
    "mapid_sort_df = start_df.sortWithinPartitions(col(\"mapid\"))\n",
    "mapid_playlistid_sort_df = start_df.sortWithinPartitions(col(\"mapid\"), col(\"playlist_id\"))\n",
    "mapid_playlistid_player_gamertag_sort_df = start_df.sortWithinPartitions(col(\"mapid\"), col(\"playlist_id\"), col(\"player_gamertag\"))"
   ]
  },
  {
   "cell_type": "code",
   "execution_count": 14,
   "id": "00519720-d6a8-416b-bed6-2182c1f76fa1",
   "metadata": {},
   "outputs": [
    {
     "name": "stderr",
     "output_type": "stream",
     "text": [
      "                                                                                \r"
     ]
    }
   ],
   "source": [
    "start_df.write.mode(\"overwrite\").saveAsTable(\"bootcamp.matches_unsorted\")\n",
    "mapid_sort_df.write.mode(\"overwrite\").saveAsTable(\"bootcamp.matches_sorted_mapid\")\n",
    "mapid_playlistid_sort_df.write.mode(\"overwrite\").saveAsTable(\"bootcamp.matches_sorted_mapid_playlistid\")\n",
    "mapid_playlistid_player_gamertag_sort_df.write.mode(\"overwrite\").saveAsTable(\"bootcamp.matches_sorted_mapid_playlistid_player_gamertag\")"
   ]
  },
  {
   "cell_type": "code",
   "execution_count": 15,
   "id": "30446393-82f7-4569-b46b-47dafc681a53",
   "metadata": {},
   "outputs": [
    {
     "name": "stderr",
     "output_type": "stream",
     "text": [
      "24/12/18 21:05:28 WARN SparkSession: Using an existing Spark session; only runtime SQL configurations will take effect.\n"
     ]
    },
    {
     "data": {
      "text/html": [
       "<table>\n",
       "    <thead>\n",
       "        <tr>\n",
       "            <th>size</th>\n",
       "            <th>num_files</th>\n",
       "            <th>unsorted</th>\n",
       "        </tr>\n",
       "    </thead>\n",
       "    <tbody>\n",
       "        <tr>\n",
       "            <td>21769794</td>\n",
       "            <td>4</td>\n",
       "            <td>unsorted</td>\n",
       "        </tr>\n",
       "        <tr>\n",
       "            <td>21968240</td>\n",
       "            <td>4</td>\n",
       "            <td>sorted_mapid</td>\n",
       "        </tr>\n",
       "        <tr>\n",
       "            <td>21189170</td>\n",
       "            <td>4</td>\n",
       "            <td>sorted_mapid_playlistid</td>\n",
       "        </tr>\n",
       "        <tr>\n",
       "            <td>19815602</td>\n",
       "            <td>4</td>\n",
       "            <td>sorted_mapid_playlistid_player_gamertag</td>\n",
       "        </tr>\n",
       "    </tbody>\n",
       "</table>"
      ],
      "text/plain": [
       "+----------+-----------+-----------------------------------------+\n",
       "|     size | num_files |                                unsorted |\n",
       "+----------+-----------+-----------------------------------------+\n",
       "| 21769794 |         4 |                                unsorted |\n",
       "| 21968240 |         4 |                            sorted_mapid |\n",
       "| 21189170 |         4 |                 sorted_mapid_playlistid |\n",
       "| 19815602 |         4 | sorted_mapid_playlistid_player_gamertag |\n",
       "+----------+-----------+-----------------------------------------+"
      ]
     },
     "execution_count": 15,
     "metadata": {},
     "output_type": "execute_result"
    }
   ],
   "source": [
    "%%sql\n",
    "SELECT SUM(file_size_in_bytes) as size, COUNT(1) as num_files, 'unsorted' \n",
    "FROM demo.bootcamp.matches_unsorted.files\n",
    "UNION ALL\n",
    "SELECT SUM(file_size_in_bytes) as size, COUNT(1) as num_files, 'sorted_mapid' \n",
    "FROM demo.bootcamp.matches_sorted_mapid.files\n",
    "UNION ALL\n",
    "SELECT SUM(file_size_in_bytes) as size, COUNT(1) as num_files, 'sorted_mapid_playlistid' \n",
    "FROM demo.bootcamp.matches_sorted_mapid_playlistid.files\n",
    "UNION ALL\n",
    "SELECT SUM(file_size_in_bytes) as size, COUNT(1) as num_files, 'sorted_mapid_playlistid_player_gamertag' \n",
    "FROM demo.bootcamp.matches_sorted_mapid_playlistid_player_gamertag.files"
   ]
  },
  {
   "cell_type": "code",
   "execution_count": null,
   "id": "94795e2c-6680-4a0a-acab-db0be237c261",
   "metadata": {},
   "outputs": [],
   "source": []
  }
 ],
 "metadata": {
  "kernelspec": {
   "display_name": "Python 3 (ipykernel)",
   "language": "python",
   "name": "python3"
  },
  "language_info": {
   "codemirror_mode": {
    "name": "ipython",
    "version": 3
   },
   "file_extension": ".py",
   "mimetype": "text/x-python",
   "name": "python",
   "nbconvert_exporter": "python",
   "pygments_lexer": "ipython3",
   "version": "3.9.18"
  }
 },
 "nbformat": 4,
 "nbformat_minor": 5
}
